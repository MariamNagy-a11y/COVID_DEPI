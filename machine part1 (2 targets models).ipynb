{
 "cells": [
  {
   "cell_type": "code",
   "execution_count": 19,
   "id": "fa48271a",
   "metadata": {},
   "outputs": [],
   "source": [
    "import pandas as pd\n",
    "import numpy as np\n",
    "import shap\n",
    "from imblearn.over_sampling import SMOTE\n",
    "from sklearn.tree import DecisionTreeClassifier\n",
    "from lightgbm import LGBMClassifier\n",
    "from sklearn.metrics import confusion_matrix, f1_score, classification_report, accuracy_score, ConfusionMatrixDisplay\n",
    "from sklearn.model_selection import train_test_split, GridSearchCV\n",
    "import matplotlib.pyplot as plt\n",
    "import seaborn as sns\n",
    "import joblib\n"
   ]
  },
  {
   "cell_type": "code",
   "execution_count": null,
   "id": "14a8c6ba",
   "metadata": {},
   "outputs": [],
   "source": [
    "from sklearn.preprocessing import StandardScaler, LabelEncoder\n",
    "\n",
    "# Load the DataFrame\n",
    "df = pd.read_csv(\"imputed_covid_data_m2_modified.csv\")\n",
    "\n",
    "# Step 1: Scale AGE\n",
    "scaler = StandardScaler()\n",
    "df['AGE_scaled'] = scaler.fit_transform(df[['AGE']])\n",
    "df = df.drop(columns=['AGE'])\n",
    "\n",
    "# Step 2: Apply LabelEncoder to all other columns\n",
    "le = LabelEncoder()\n",
    "for col in df.columns:\n",
    "    if col != 'AGE_scaled':\n",
    "        df[col] = le.fit_transform(df[col])\n",
    "\n",
    "# Step 3: Train-test split\n",
    "working_df, valid_df = train_test_split(df, test_size=0.20, random_state=42)\n",
    "\n",
    "# Step 4: Save the encoded and split data\n",
    "working_df.to_csv(\"working_encoded.csv\", index=False)\n",
    "valid_df.to_csv(\"valid_encoded.csv\", index=False)"
   ]
  },
  {
   "cell_type": "code",
   "execution_count": 20,
   "id": "4d90cc4a",
   "metadata": {},
   "outputs": [],
   "source": [
    "working_df = pd.read_csv(\"working_encoded.csv\")"
   ]
  },
  {
   "cell_type": "code",
   "execution_count": 21,
   "id": "8aab7ed7",
   "metadata": {},
   "outputs": [
    {
     "name": "stdout",
     "output_type": "stream",
     "text": [
      "<class 'pandas.core.frame.DataFrame'>\n",
      "RangeIndex: 189220 entries, 0 to 189219\n",
      "Data columns (total 19 columns):\n",
      " #   Column          Non-Null Count   Dtype  \n",
      "---  ------          --------------   -----  \n",
      " 0   USMER           189220 non-null  int64  \n",
      " 1   SEX             189220 non-null  int64  \n",
      " 2   PATIENT_TYPE    189220 non-null  int64  \n",
      " 3   INTUBED         189220 non-null  int64  \n",
      " 4   PNEUMONIA       189220 non-null  int64  \n",
      " 5   DIABETES        189220 non-null  int64  \n",
      " 6   COPD            189220 non-null  int64  \n",
      " 7   ASTHMA          189220 non-null  int64  \n",
      " 8   INMSUPR         189220 non-null  int64  \n",
      " 9   HIPERTENSION    189220 non-null  int64  \n",
      " 10  OTHER_DISEASE   189220 non-null  int64  \n",
      " 11  CARDIOVASCULAR  189220 non-null  int64  \n",
      " 12  OBESITY         189220 non-null  int64  \n",
      " 13  RENAL_CHRONIC   189220 non-null  int64  \n",
      " 14  TOBACCO         189220 non-null  int64  \n",
      " 15  ICU             189220 non-null  int64  \n",
      " 16  DIED            189220 non-null  int64  \n",
      " 17  COVID_status    189220 non-null  int64  \n",
      " 18  AGE_scaled      189220 non-null  float64\n",
      "dtypes: float64(1), int64(18)\n",
      "memory usage: 27.4 MB\n"
     ]
    }
   ],
   "source": [
    "# ---------- 1. Model for ICU ----------\n",
    "icu_df = working_df.drop(columns=['INTUBED'], errors='ignore')\n",
    "icu_df = working_df.dropna()\n",
    "icu_df.info()"
   ]
  },
  {
   "cell_type": "code",
   "execution_count": 22,
   "id": "8818c80f",
   "metadata": {},
   "outputs": [
    {
     "data": {
      "text/plain": [
       "ICU\n",
       "0    176216\n",
       "1     13004\n",
       "Name: count, dtype: int64"
      ]
     },
     "execution_count": 22,
     "metadata": {},
     "output_type": "execute_result"
    }
   ],
   "source": [
    "icu_df['ICU'].value_counts()"
   ]
  },
  {
   "cell_type": "code",
   "execution_count": 23,
   "id": "8ed9bcaa",
   "metadata": {},
   "outputs": [
    {
     "name": "stdout",
     "output_type": "stream",
     "text": [
      "ICU\n",
      "0    176216\n",
      "1    176216\n",
      "Name: count, dtype: int64\n"
     ]
    }
   ],
   "source": [
    "# Separate features and target\n",
    "X = icu_df.drop(columns=['ICU', 'INTUBED'])\n",
    "y = icu_df['ICU']\n",
    "\n",
    "# Apply SMOTE for balancing the dataset\n",
    "smote = SMOTE(random_state=42)\n",
    "X_resampled, y_resampled = smote.fit_resample(X, y)\n",
    "\n",
    "# Combine resampled data into a new DataFrame\n",
    "icu_resampled = pd.DataFrame(X_resampled, columns=X.columns)\n",
    "icu_resampled['ICU'] = y_resampled\n",
    "\n",
    "# Check the class distribution after SMOTE\n",
    "print(icu_resampled['ICU'].value_counts())"
   ]
  },
  {
   "cell_type": "code",
   "execution_count": 20,
   "id": "11d1f623",
   "metadata": {},
   "outputs": [
    {
     "data": {
      "text/plain": [
       "Index(['USMER', 'SEX', 'PATIENT_TYPE', 'PNEUMONIA', 'DIABETES', 'COPD',\n",
       "       'ASTHMA', 'INMSUPR', 'HIPERTENSION', 'OTHER_DISEASE', 'CARDIOVASCULAR',\n",
       "       'OBESITY', 'RENAL_CHRONIC', 'TOBACCO', 'DIED', 'COVID_status',\n",
       "       'AGE_scaled', 'ICU'],\n",
       "      dtype='object')"
      ]
     },
     "execution_count": 20,
     "metadata": {},
     "output_type": "execute_result"
    }
   ],
   "source": [
    "icu_resampled.columns"
   ]
  },
  {
   "cell_type": "code",
   "execution_count": 24,
   "id": "be064ace",
   "metadata": {},
   "outputs": [],
   "source": [
    "# Split the data into training and testing sets\n",
    "X_train, X_test, y_train, y_test = train_test_split(\n",
    "    X_resampled, y_resampled, test_size=0.2, random_state=123\n",
    ")\n"
   ]
  },
  {
   "cell_type": "code",
   "execution_count": 25,
   "id": "b9a4abe9",
   "metadata": {},
   "outputs": [],
   "source": [
    "from sklearn.tree import DecisionTreeClassifier\n",
    "\n",
    "# Initialize and train the model with the specified parameters\n",
    "dt_model = DecisionTreeClassifier(\n",
    "    ccp_alpha=0.0,\n",
    "    class_weight=None,\n",
    "    criterion='gini',\n",
    "    max_depth=None,\n",
    "    max_features=None,\n",
    "    max_leaf_nodes=None,\n",
    "    min_impurity_decrease=0.0,\n",
    "    min_samples_leaf=1,\n",
    "    min_samples_split=2,\n",
    "    min_weight_fraction_leaf=0.0,\n",
    "    monotonic_cst=None,\n",
    "    random_state=123,\n",
    "    splitter='best'\n",
    ")\n",
    "\n",
    "# Train the model\n",
    "dt_model.fit(X_train, y_train)\n",
    "\n",
    "# Predict on test set\n",
    "y_pred = dt_model.predict(X_test)\n"
   ]
  },
  {
   "cell_type": "code",
   "execution_count": 26,
   "id": "716edab1",
   "metadata": {},
   "outputs": [
    {
     "data": {
      "image/png": "[encoded data removed]",
      "text/plain": [
       "<Figure size 600x400 with 2 Axes>"
      ]
     },
     "metadata": {},
     "output_type": "display_data"
    },
    {
     "name": "stdout",
     "output_type": "stream",
     "text": [
      "Accuracy: 0.8966\n",
      "F1 Score: 0.8987\n",
      "Classification Report:\n",
      "              precision    recall  f1-score   support\n",
      "\n",
      "           0       0.91      0.88      0.89     35243\n",
      "           1       0.88      0.92      0.90     35244\n",
      "\n",
      "    accuracy                           0.90     70487\n",
      "   macro avg       0.90      0.90      0.90     70487\n",
      "weighted avg       0.90      0.90      0.90     70487\n",
      "\n"
     ]
    }
   ],
   "source": [
    "cm = confusion_matrix(y_test, y_pred)\n",
    "\n",
    "plt.figure(figsize=(6, 4))\n",
    "sns.heatmap(cm, annot=True, fmt='d', cmap='Blues',\n",
    "            xticklabels=['Pred 0', 'Pred 1'],\n",
    "            yticklabels=['Actual 0', 'Actual 1'])\n",
    "plt.xlabel('Predicted Label')\n",
    "plt.ylabel('True Label')\n",
    "plt.title('Decision Tree - Confusion Matrix')\n",
    "plt.tight_layout()\n",
    "plt.show()\n",
    "\n",
    "# Compute Accuracy\n",
    "accuracy = accuracy_score(y_test, y_pred)\n",
    "print(f\"Accuracy: {accuracy:.4f}\")\n",
    "\n",
    "# F1 Score\n",
    "print(f\"F1 Score: {f1_score(y_test, y_pred):.4f}\")\n",
    "\n",
    "# Full classification report (Precision, Recall, F1-score, Support for each class)\n",
    "report = classification_report(y_test, y_pred)\n",
    "print(\"Classification Report:\")\n",
    "print(report)\n"
   ]
  },
  {
   "cell_type": "code",
   "execution_count": 27,
   "id": "11b37467",
   "metadata": {},
   "outputs": [
    {
     "data": {
      "text/plain": [
       "['decision_tree_icu_model.pkl']"
      ]
     },
     "execution_count": 27,
     "metadata": {},
     "output_type": "execute_result"
    }
   ],
   "source": [
    "# Step 1: Save the trained model\n",
    "joblib.dump(dt_model, 'decision_tree_icu_model.pkl')"
   ]
  },
  {
   "cell_type": "code",
   "execution_count": 28,
   "id": "be3e0031",
   "metadata": {},
   "outputs": [],
   "source": [
    "# Step 2: Load the model\n",
    "loaded_model = joblib.load('decision_tree_icu_model.pkl')"
   ]
  },
  {
   "cell_type": "code",
   "execution_count": 29,
   "id": "36445e62",
   "metadata": {},
   "outputs": [],
   "source": [
    "valid_df = pd.read_csv(\"valid_encoded.csv\")"
   ]
  },
  {
   "cell_type": "code",
   "execution_count": 26,
   "id": "99647525",
   "metadata": {},
   "outputs": [],
   "source": [
    "# Drop the 'INTUBED' column from the validation dataset\n",
    "valid_df_icu = valid_df.drop(columns=['INTUBED'], errors='ignore')\n",
    "valid_df_icu = valid_df_icu.dropna()\n"
   ]
  },
  {
   "cell_type": "code",
   "execution_count": 15,
   "id": "5a08ecf3",
   "metadata": {},
   "outputs": [
    {
     "data": {
      "text/plain": [
       "Index(['USMER', 'SEX', 'PATIENT_TYPE', 'PNEUMONIA', 'DIABETES', 'COPD',\n",
       "       'ASTHMA', 'INMSUPR', 'HIPERTENSION', 'OTHER_DISEASE', 'CARDIOVASCULAR',\n",
       "       'OBESITY', 'RENAL_CHRONIC', 'TOBACCO', 'ICU', 'DIED', 'COVID_status',\n",
       "       'AGE_scaled'],\n",
       "      dtype='object')"
      ]
     },
     "execution_count": 15,
     "metadata": {},
     "output_type": "execute_result"
    }
   ],
   "source": [
    "valid_df_icu.columns"
   ]
  },
  {
   "cell_type": "code",
   "execution_count": 30,
   "id": "e6219bcb",
   "metadata": {},
   "outputs": [
    {
     "name": "stdout",
     "output_type": "stream",
     "text": [
      "F1 Score: 0.23901015994366764\n"
     ]
    },
    {
     "data": {
      "text/plain": [
       "<sklearn.metrics._plot.confusion_matrix.ConfusionMatrixDisplay at 0x27d03c5aed0>"
      ]
     },
     "execution_count": 30,
     "metadata": {},
     "output_type": "execute_result"
    },
    {
     "data": {
      "image/png": "[encoded data removed]",
      "text/plain": [
       "<Figure size 640x480 with 2 Axes>"
      ]
     },
     "metadata": {},
     "output_type": "display_data"
    }
   ],
   "source": [
    "\n",
    "# Separate features and target for validation data\n",
    "X_valid = valid_df_icu.drop(columns=['ICU'])\n",
    "y_valid = valid_df_icu['ICU']\n",
    "\n",
    "# Use the trained model to make predictions\n",
    "y_pred = loaded_model.predict(X_valid)\n",
    "\n",
    "\n",
    "# Compute confusion matrix and F1 score\n",
    "from sklearn.metrics import confusion_matrix, f1_score\n",
    "cm = confusion_matrix(y_valid, y_pred)\n",
    "f1 = f1_score(y_valid, y_pred)\n",
    "\n",
    "# Print F1 score\n",
    "print(\"F1 Score:\", f1)\n",
    "\n",
    "# Plot confusion matrix\n",
    "from sklearn.metrics import ConfusionMatrixDisplay\n",
    "disp = ConfusionMatrixDisplay(confusion_matrix=cm, display_labels=dt_model.classes_)\n",
    "disp.plot(cmap='Blues')"
   ]
  },
  {
   "cell_type": "code",
   "execution_count": 31,
   "id": "bfd73ae9",
   "metadata": {},
   "outputs": [
    {
     "name": "stdout",
     "output_type": "stream",
     "text": [
      "Accuracy: 0.8578\n",
      "F1 Score: 0.8578\n",
      "Classification Report:\n",
      "              precision    recall  f1-score   support\n",
      "\n",
      "           0       0.84      0.88      0.86     43969\n",
      "           1       0.87      0.84      0.86     43969\n",
      "\n",
      "    accuracy                           0.86     87938\n",
      "   macro avg       0.86      0.86      0.86     87938\n",
      "weighted avg       0.86      0.86      0.86     87938\n",
      "\n"
     ]
    },
    {
     "data": {
      "text/plain": [
       "<sklearn.metrics._plot.confusion_matrix.ConfusionMatrixDisplay at 0x27d03004250>"
      ]
     },
     "execution_count": 31,
     "metadata": {},
     "output_type": "execute_result"
    },
    {
     "data": {
      "image/png": "[encoded data removed]",
      "text/plain": [
       "<Figure size 640x480 with 2 Axes>"
      ]
     },
     "metadata": {},
     "output_type": "display_data"
    }
   ],
   "source": [
    "# validation after oversampling:\n",
    "\n",
    "# Load the pre-trained model\n",
    "loaded_model = joblib.load('decision_tree_icu_model.pkl')\n",
    "\n",
    "# Read the validation data\n",
    "valid_df = pd.read_csv(\"valid_encoded.csv\")\n",
    "\n",
    "# Drop the 'INTUBED' column from the validation dataset\n",
    "valid_df_icu = valid_df.drop(columns=['INTUBED'], errors='ignore')\n",
    "valid_df_icu = valid_df_icu.dropna()  # Drop rows with missing values\n",
    "\n",
    "# Separate features and target for validation data\n",
    "X_valid = valid_df_icu.drop(columns=['ICU'])\n",
    "y_valid = valid_df_icu['ICU']\n",
    "\n",
    "# Apply SMOTE to the validation data (for balancing)\n",
    "smote = SMOTE(random_state=42)\n",
    "\n",
    "# Resample the validation data (X_valid, y_valid) using SMOTE\n",
    "X_valid_resampled, y_valid_resampled = smote.fit_resample(X_valid, y_valid)\n",
    "\n",
    "# Use the trained model to make predictions\n",
    "y_pred = loaded_model.predict(X_valid_resampled)\n",
    "\n",
    "# Confusion matrix\n",
    "cm = confusion_matrix(y_valid_resampled, y_pred)\n",
    "\n",
    "# Accuracy\n",
    "accuracy = accuracy_score(y_valid_resampled, y_pred)\n",
    "print(f\"Accuracy: {accuracy:.4f}\")\n",
    "\n",
    "# F1 Score\n",
    "f1 = f1_score(y_valid_resampled, y_pred, average='weighted')  # use 'weighted' if multiclass\n",
    "print(f\"F1 Score: {f1:.4f}\")\n",
    "\n",
    "# Full Classification Report\n",
    "report = classification_report(y_valid_resampled, y_pred)\n",
    "print(\"Classification Report:\")\n",
    "print(report)\n",
    "\n",
    "# Plot confusion matrix\n",
    "from sklearn.metrics import ConfusionMatrixDisplay\n",
    "disp = ConfusionMatrixDisplay(confusion_matrix=cm, display_labels=loaded_model.classes_)\n",
    "disp.plot(cmap='Blues')\n"
   ]
  },
  {
   "cell_type": "code",
   "execution_count": 32,
   "id": "dde47a76",
   "metadata": {},
   "outputs": [],
   "source": [
    "# ---------- 2. Model for PATIENT_TYPE ----------\n",
    "# Drop ICU, INTUBED and drop NaNs\n",
    "ptype_df = working_df.drop(columns=['ICU', 'INTUBED'], errors='ignore').dropna()"
   ]
  },
  {
   "cell_type": "code",
   "execution_count": 33,
   "id": "fbc7142f",
   "metadata": {},
   "outputs": [
    {
     "data": {
      "text/plain": [
       "PATIENT_TYPE\n",
       "0    109251\n",
       "1     79969\n",
       "Name: count, dtype: int64"
      ]
     },
     "execution_count": 33,
     "metadata": {},
     "output_type": "execute_result"
    }
   ],
   "source": [
    "ptype_df['PATIENT_TYPE'].value_counts()"
   ]
  },
  {
   "cell_type": "code",
   "execution_count": 34,
   "id": "1ccebae2",
   "metadata": {},
   "outputs": [
    {
     "name": "stdout",
     "output_type": "stream",
     "text": [
      "PATIENT_TYPE\n",
      "1    109251\n",
      "0    109251\n",
      "Name: count, dtype: int64\n",
      "[LightGBM] [Info] Number of positive: 87319, number of negative: 87482\n",
      "[LightGBM] [Info] Auto-choosing row-wise multi-threading, the overhead of testing was 0.009291 seconds.\n",
      "You can set `force_row_wise=true` to remove the overhead.\n",
      "And if memory is not enough, you can set `force_col_wise=true`.\n",
      "[LightGBM] [Info] Total Bins 293\n",
      "[LightGBM] [Info] Number of data points in the train set: 174801, number of used features: 16\n",
      "[LightGBM] [Info] [binary:BoostFromScore]: pavg=0.499534 -> initscore=-0.001865\n",
      "[LightGBM] [Info] Start training from score -0.001865\n"
     ]
    },
    {
     "data": {
      "image/png": "[encoded data removed]",
      "text/plain": [
       "<Figure size 600x400 with 2 Axes>"
      ]
     },
     "metadata": {},
     "output_type": "display_data"
    },
    {
     "name": "stdout",
     "output_type": "stream",
     "text": [
      "Accuracy: 0.7771\n",
      "F1 Score: 0.7871\n",
      "Classification Report:\n",
      "              precision    recall  f1-score   support\n",
      "\n",
      "           0       0.80      0.73      0.77     21769\n",
      "           1       0.76      0.82      0.79     21932\n",
      "\n",
      "    accuracy                           0.78     43701\n",
      "   macro avg       0.78      0.78      0.78     43701\n",
      "weighted avg       0.78      0.78      0.78     43701\n",
      "\n"
     ]
    }
   ],
   "source": [
    "\n",
    "# Drop 'ICU' and 'INTUBED' columns, and handle missing values\n",
    "ptype_df = working_df.drop(columns=['ICU', 'INTUBED'], errors='ignore').dropna()\n",
    "\n",
    "# Separate features and target\n",
    "X_ptype = ptype_df.drop(columns=['PATIENT_TYPE'])  # Replace 'PATIENT_TYPE' with your actual target column name\n",
    "y_ptype = ptype_df['PATIENT_TYPE']  # Adjust target column name if needed\n",
    "\n",
    "# Apply SMOTE to balance the dataset\n",
    "smote = SMOTE(random_state=42)\n",
    "X_resampled, y_resampled = smote.fit_resample(X_ptype, y_ptype)\n",
    "\n",
    "# Combine resampled data into a new DataFrame\n",
    "ptype_resampled = pd.DataFrame(X_resampled, columns=X_ptype.columns)\n",
    "ptype_resampled['PATIENT_TYPE'] = y_resampled\n",
    "\n",
    "# Check the class distribution after SMOTE\n",
    "print(ptype_resampled['PATIENT_TYPE'].value_counts())\n",
    "\n",
    "# Split the data into training and testing sets\n",
    "X_train, X_test, y_train, y_test = train_test_split(\n",
    "    X_resampled, y_resampled, test_size=0.2, random_state=123\n",
    ")\n",
    "\n",
    "# Initialize and train the model with the specified parameters (LGBMClassifier)\n",
    "lgbm_model = LGBMClassifier(\n",
    "    boosting_type='gbdt', \n",
    "    class_weight=None, \n",
    "    colsample_bytree=1.0,\n",
    "    importance_type='split', \n",
    "    learning_rate=0.1, \n",
    "    max_depth=-1,\n",
    "    min_child_samples=20, \n",
    "    min_child_weight=0.001, \n",
    "    min_split_gain=0.0,\n",
    "    n_estimators=100, \n",
    "    n_jobs=-1, \n",
    "    num_leaves=31, \n",
    "    objective=None,\n",
    "    random_state=123, \n",
    "    reg_alpha=0.0, \n",
    "    reg_lambda=0.0, \n",
    "    subsample=1.0, \n",
    "    subsample_for_bin=200000, \n",
    "    subsample_freq=0\n",
    ")\n",
    "\n",
    "# Train the model\n",
    "lgbm_model.fit(X_train, y_train)\n",
    "\n",
    "# Predict on the test set\n",
    "y_pred = lgbm_model.predict(X_test)\n",
    "\n",
    "# Compute confusion matrix\n",
    "cm = confusion_matrix(y_test, y_pred)\n",
    "\n",
    "# Plot confusion matrix\n",
    "plt.figure(figsize=(6, 4))\n",
    "sns.heatmap(cm, annot=True, fmt='d', cmap='Blues',\n",
    "            xticklabels=['Pred 0', 'Pred 1'],\n",
    "            yticklabels=['Actual 0', 'Actual 1'])\n",
    "plt.xlabel('Predicted Label')\n",
    "plt.ylabel('True Label')\n",
    "plt.title('LGBM Classifier - Confusion Matrix')\n",
    "plt.tight_layout()\n",
    "plt.show()\n",
    "\n",
    "# Compute Accuracy\n",
    "accuracy = accuracy_score(y_test, y_pred)\n",
    "print(f\"Accuracy: {accuracy:.4f}\")\n",
    "\n",
    "# F1 Score\n",
    "print(f\"F1 Score: {f1_score(y_test, y_pred):.4f}\")\n",
    "\n",
    "# Full classification report (Precision, Recall, F1-score, Support for each class)\n",
    "report = classification_report(y_test, y_pred)\n",
    "print(\"Classification Report:\")\n",
    "print(report)\n",
    "\n",
    "# Step 1: Save the trained model\n",
    "joblib.dump(lgbm_model, 'L_ptype_model.pkl')\n",
    "\n",
    "# Step 2: Load the model (example)\n",
    "loaded_model = joblib.load('L_ptype_model.pkl')\n"
   ]
  },
  {
   "cell_type": "code",
   "execution_count": 35,
   "id": "a235d8d4",
   "metadata": {},
   "outputs": [],
   "source": [
    "valid_df = pd.read_csv(\"valid_encoded.csv\")"
   ]
  },
  {
   "cell_type": "code",
   "execution_count": 36,
   "id": "6f74ac61",
   "metadata": {},
   "outputs": [],
   "source": [
    "# Drop the 'INTUBED' column from the validation dataset\n",
    "valid_df_icu = valid_df.drop(columns=['INTUBED', 'ICU'], errors='ignore')\n",
    "valid_df_icu = valid_df_icu.dropna()"
   ]
  },
  {
   "cell_type": "code",
   "execution_count": 37,
   "id": "ea4c642a",
   "metadata": {},
   "outputs": [
    {
     "data": {
      "image/png": "[encoded data removed]",
      "text/plain": [
       "<Figure size 640x480 with 2 Axes>"
      ]
     },
     "metadata": {},
     "output_type": "display_data"
    },
    {
     "name": "stdout",
     "output_type": "stream",
     "text": [
      "Accuracy: 0.7700\n",
      "F1 Score: 0.7714\n",
      "Classification Report:\n",
      "              precision    recall  f1-score   support\n",
      "\n",
      "           0       0.85      0.74      0.79     27393\n",
      "           1       0.69      0.82      0.75     19913\n",
      "\n",
      "    accuracy                           0.77     47306\n",
      "   macro avg       0.77      0.78      0.77     47306\n",
      "weighted avg       0.78      0.77      0.77     47306\n",
      "\n"
     ]
    }
   ],
   "source": [
    "# Load validation dataset (make sure it has the same preprocessing and encoding as training data)\n",
    "valid_df_ptype = valid_df.drop(columns=['ICU', 'INTUBED'], errors='ignore').dropna()\n",
    "\n",
    "# Separate features and target\n",
    "X_valid = valid_df_ptype.drop(columns=['PATIENT_TYPE'])\n",
    "y_valid = valid_df_ptype['PATIENT_TYPE']\n",
    "\n",
    "# Load trained model\n",
    "loaded_model_2 = joblib.load('L_ptype_model.pkl')\n",
    "\n",
    "# Predict using the loaded model\n",
    "y_pred = loaded_model_2.predict(X_valid)\n",
    "\n",
    "# Confusion Matrix\n",
    "cm = confusion_matrix(y_valid, y_pred)\n",
    "disp = ConfusionMatrixDisplay(confusion_matrix=cm)\n",
    "disp.plot(cmap='Blues')\n",
    "plt.title('LGBM - Validation Confusion Matrix')\n",
    "plt.tight_layout()\n",
    "plt.show()\n",
    "\n",
    "# Accuracy\n",
    "accuracy = accuracy_score(y_valid, y_pred)\n",
    "print(f\"Accuracy: {accuracy:.4f}\")\n",
    "\n",
    "# F1 Score\n",
    "f1 = f1_score(y_valid, y_pred, average='weighted')  # use 'weighted' if multiclass\n",
    "print(f\"F1 Score: {f1:.4f}\")\n",
    "\n",
    "# Full Classification Report\n",
    "report = classification_report(y_valid, y_pred)\n",
    "print(\"Classification Report:\")\n",
    "print(report)\n"
   ]
  }
 ],
 "metadata": {
  "kernelspec": {
   "display_name": "py3_11",
   "language": "python",
   "name": "python3"
  },
  "language_info": {
   "codemirror_mode": {
    "name": "ipython",
    "version": 3
   },
   "file_extension": ".py",
   "mimetype": "text/x-python",
   "name": "python",
   "nbconvert_exporter": "python",
   "pygments_lexer": "ipython3",
   "version": "3.11.11"
  }
 },
 "nbformat": 4,
 "nbformat_minor": 5
}
